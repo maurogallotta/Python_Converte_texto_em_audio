{
 "cells": [
  {
   "cell_type": "markdown",
   "id": "3981ae0a",
   "metadata": {},
   "source": [
    "## REFERENCIAS E LINKS ÚTEIS:   https://pyttsx3.readthedocs.io/en/latest/#\n"
   ]
  },
  {
   "cell_type": "code",
   "execution_count": 15,
   "id": "858c0bd6",
   "metadata": {},
   "outputs": [],
   "source": [
    "# INSTAL O PACOTE pip install pyttsx3\n",
    "\n",
    "# IMPORT O PACOTE\n",
    "import pyttsx3"
   ]
  },
  {
   "cell_type": "code",
   "execution_count": 31,
   "id": "c83aded3",
   "metadata": {},
   "outputs": [],
   "source": [
    "# CRIAÇÃO DA STRINGA DA EXECUTAR\n",
    "string = 'exemplos. Como você deve ter notado, a IA é atualmente um \"tópico quente\": a cobertura da mídia e a discussão pública sobre IA são quase impossíveis de evitar. No entanto, você também deve ter notado que a IA pode significar coisas diferentes para pessoas diferentes. Para alguns, IA está associada as formas de vida artificiais que podem ultrapassar a inteligência humana, e para outros, quase qualquer tecnologia de processamento de dados pode ser chamada IA. Para definir o cenário, discutiremos o que é IA, como ela pode ser definida, e, quais outros campos ou tecnologias estão intimamente relacionados. Antes de fazermos isso, no entanto, vamos destacar três aplicações da IA que ilustram diferentes aspectos da IA. Voltaremos a cada um deles ao longo do curso, para aprofundarmos a nossa compreensão. Aplicação 1. Carros autônomos - Os carros autônomos exigem uma combinação de várias técnicas de IA: busca e planejamento para encontrar a rota mais conveniente de A a B; visão computacional para identificar obstáculos; e tomada de decisão sob incerteza para lidar com o ambiente complexo e dinâmico. Cada um deles deve trabalhar com precisão quase perfeita para evitar acidentes. As mesmas tecnologias também são usadas em outros sistemas autônomos, como robôs de entrega, drones e navios autônomos. Implicações: a segurança no trânsito deve melhorar à medida que a confiabilidade dos sistemas ultrapassar o nível humano, bem como a eficiência das cadeias logísticas ao transportar mercadorias. Os humanos assumem um papel de supervisão, mantendo os olhos no que está acontecendo enquanto as máquinas cuidam da direção. Como o transporte é um elemento crucial em nossa vida cotidiana, é provável que também haja algumas implicações sobre as quais nós ainda nem pensamos. Aplicação 2. Recomendação de Conteúdo - Muitas das informações que encontramos no decorrer de um dia típico são personalizadas. Exemplos incluem Facebook, Twitter, Instagram e outros conteúdos de mídias sociais; anúncios online; recomendações de música no Spotify; recomendações de filmes na Netflix, HBO e outros serviços de streaming. Muitos editores on-line, como sites de empresas de jornais e de radiodifusão, bem como mecanismos de pesquisa, como o Google, também personalizam o conteúdo que oferecem. Embora a primeira página da versão impressa do New York Times ou do China Daily seja a mesma para todos os leitores, a primeira página da versão online é diferente para cada usuário. Os algoritmos que determinam o conteúdo que você vê são baseados em IA. Implicações: Embora muitas empresas não queiram revelar os detalhes de seus algoritmos, o conhecimento dos princípios básicos ajuda a entender as possíveis implicações: envolvem as chamadas bolhas de filtro, câmaras de eco, fábricas de trolls, notícias falsas e novas formas de propaganda. Aplicação 3. Processamento de imagem e vídeo - O reconhecimento facial já é uma commodity usada em muitos aplicativos, empresas e governos, como por exemplo: a organização de suas fotos de acordo com as pessoas, a marcação automática nas mídias sociais e o controle de passaportes. Técnicas semelhantes podem ser usadas para reconhecer outros carros e obstáculos em torno de um carro autônomo, ou para estimar populações de vida selvagem, apenas para citar alguns exemplos. IA também pode ser usado para gerar ou alterar conteúdo visual. Os exemplos em uso atualmente incluem transferência de estilo, pelo qual você pode adaptar suas fotos pessoais para parecer que foram pintadas por Vincent Van Gogh, e personagens gerados por computador em filmes como Avatar, o Senhor dos Anéis e as populares animações da Pixar. Os personagens animados reproduzem gestos feitos por atores humanos reais. Continuamos no próximo item de aprendizagem!' \\\n",
    "    \n",
    "# CRIAÇÃO DO INICIO DO PROGRAMA\n",
    "engine = pyttsx3.init()\n",
    "\n",
    "# SALVA SEU FILE MP3 NA DIRECTORY QUE FOI EXECUTADO\n",
    "engine.save_to_file(string , 'novo_audio.mp3')\n",
    "\n",
    "# EXECUTA O AUDIO\n",
    "engine.runAndWait()"
   ]
  },
  {
   "cell_type": "code",
   "execution_count": null,
   "id": "05938ddf",
   "metadata": {},
   "outputs": [],
   "source": [
    "# LEIA A LINHA E SALVA NO AUDIO ****\n",
    "\n",
    "# CRIAÇÃO DO INICIO DO PROGRAMA \n",
    "engine = pyttsx3.init()\n",
    "\n",
    "# SALVA SEU FILE MP3 NA DIRECTORY QUE FOI EXECUTADO\n",
    "engine.save_to_file('Hello World' , 'test.mp3')\n",
    "\n",
    "# EXECUTA O AUDIO\n",
    "engine.runAndWait()"
   ]
  },
  {
   "cell_type": "code",
   "execution_count": null,
   "id": "c4b2920b",
   "metadata": {},
   "outputs": [],
   "source": [
    "# LETURA DE LINHAS SEPARADAS ****\n",
    "\n",
    "# CRIAÇÃO DO INICIO DO PROGRAMA\n",
    "engine = pyttsx3.init()\n",
    "\n",
    "# LER AS 2 LINHAS\n",
    "engine.say('primeira linha de texto')\n",
    "engine.say('segunda linha te texto')\n",
    "\n",
    "# EXECUTA O AUDIO\n",
    "engine.runAndWait()"
   ]
  },
  {
   "cell_type": "code",
   "execution_count": 19,
   "id": "1e7eec1b",
   "metadata": {},
   "outputs": [],
   "source": [
    "# ADDICIONA OU SOTRAE A VELOCIDADE (rate-120) OU (rate +120)\n",
    "\n",
    "# CRIAÇÃO DO INICIO DO PROGRAMA\n",
    "engine = pyttsx3.init()\n",
    "\n",
    "# MODIFICA O RATE (VELOCIDADE DO AUDIO)\n",
    "rate = engine.getProperty('rate')\n",
    "engine.setProperty('rate', rate-5)\n",
    "\n",
    "# LER A LINHA\n",
    "engine.say('que dia é hoje !')\n",
    "\n",
    "# EXECUTA O AUDIO\n",
    "engine.runAndWait()"
   ]
  },
  {
   "cell_type": "code",
   "execution_count": 10,
   "id": "54fce779",
   "metadata": {},
   "outputs": [],
   "source": [
    "# REGULA VOLUME DA VOZ\n",
    "\n",
    "# CRIAÇÃO DO INICIO DO PROGRAMA\n",
    "engine = pyttsx3.init()\n",
    "\n",
    "# MODIFICA O VOLUME DO AUDIO (volume+0.25)\n",
    "volume = engine.getProperty('volume')\n",
    "engine.setProperty('volume', volume+0.25)\n",
    "\n",
    "# LER A LINHA\n",
    "engine.say('hoje é um dia fantasico !')\n",
    "\n",
    "# EXECUTA O AUDIO\n",
    "engine.runAndWait()"
   ]
  },
  {
   "cell_type": "code",
   "execution_count": null,
   "id": "ab8c1fc9",
   "metadata": {},
   "outputs": [],
   "source": [
    "# MUDA A VOZ\n",
    "\n",
    "# CRIAÇÃO DO INICIO DO PROGRAMA\n",
    "engine = pyttsx3.init()\n",
    "\n",
    "# MUDAR AS VOZES\n",
    "voices = engine.getProperty('voices')\n",
    "for voice in voices:\n",
    "   engine.setProperty('voice', voice.id)\n",
    "\n",
    "# LER A LINHA\n",
    "   engine.say('que legal estar aqui conosco !')\n",
    "    \n",
    "# EXECUTA O AUDIO    \n",
    "engine.runAndWait()"
   ]
  },
  {
   "cell_type": "code",
   "execution_count": null,
   "id": "3c8a5ed5",
   "metadata": {},
   "outputs": [],
   "source": []
  }
 ],
 "metadata": {
  "kernelspec": {
   "display_name": "Python 3",
   "language": "python",
   "name": "python3"
  },
  "language_info": {
   "codemirror_mode": {
    "name": "ipython",
    "version": 3
   },
   "file_extension": ".py",
   "mimetype": "text/x-python",
   "name": "python",
   "nbconvert_exporter": "python",
   "pygments_lexer": "ipython3",
   "version": "3.8.8"
  }
 },
 "nbformat": 4,
 "nbformat_minor": 5
}
